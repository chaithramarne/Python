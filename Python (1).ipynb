{
  "nbformat": 4,
  "nbformat_minor": 0,
  "metadata": {
    "colab": {
      "provenance": []
    },
    "kernelspec": {
      "name": "python3",
      "display_name": "Python 3"
    },
    "language_info": {
      "name": "python"
    }
  },
  "cells": [
    {
      "cell_type": "code",
      "execution_count": null,
      "metadata": {
        "id": "lygNIuwrRv45",
        "colab": {
          "base_uri": "https://localhost:8080/"
        },
        "outputId": "454c8403-6607-4372-b9e3-fd4d0266c04b"
      },
      "outputs": [
        {
          "output_type": "stream",
          "name": "stdout",
          "text": [
            "Enter nameAlex\n",
            "Enter year:2002\n",
            "The person Alex born in 2002 is 22 years old\n"
          ]
        }
      ],
      "source": [
        "name=input(\"Enter name\")\n",
        "year=int(input(\"Enter year:\"))\n",
        "age=2024-year\n",
        "print(\"The person\",name,\"born in\",year,\"is\",age,\"years old\")"
      ]
    },
    {
      "cell_type": "code",
      "source": [
        "#if statement\n",
        "marks=int(input(\"Enter marks: \"))\n",
        "if(marks>80 and marks<=100):\n",
        "  print(\"Distinction\")\n",
        "elif(marks<80 and marks>60):\n",
        "  print(\"Pass\")\n",
        "elif(marks<60):\n",
        "  print(\"Fail\")\n",
        "else:\n",
        "  print(\"invalid\")"
      ],
      "metadata": {
        "colab": {
          "base_uri": "https://localhost:8080/"
        },
        "id": "2z2YpXjpcnpW",
        "outputId": "84be6aa6-9a47-4f06-fc44-f51eba88b371"
      },
      "execution_count": null,
      "outputs": [
        {
          "output_type": "stream",
          "name": "stdout",
          "text": [
            "Enter marks: 78\n",
            "Pass\n"
          ]
        }
      ]
    },
    {
      "cell_type": "code",
      "source": [
        "#To check if a number is prime or not\n",
        "n=int(input(\"Enter a number\"))\n",
        "for i in range(2,(n//2)+1):\n",
        "  if(n%i)==0:\n",
        "    print(\"It is not prime\")\n",
        "    break\n",
        "else:\n",
        "  print(\"is a prime\")\n"
      ],
      "metadata": {
        "colab": {
          "base_uri": "https://localhost:8080/"
        },
        "id": "tu5Kj0GO0s1q",
        "outputId": "011127c4-8e99-460b-c539-43c1b1470662"
      },
      "execution_count": null,
      "outputs": [
        {
          "output_type": "stream",
          "name": "stdout",
          "text": [
            "Enter a number4\n",
            "It is not prime\n"
          ]
        }
      ]
    },
    {
      "cell_type": "code",
      "source": [
        "#Strong number\n",
        "sum=0\n",
        "num=int(input(\"Enter a number: \"))\n",
        "temp=num\n",
        "while(num!=0):\n",
        "  i=1\n",
        "  f=1\n",
        "  r=num%10\n",
        "  while(i<=r):\n",
        "    f=f*i\n",
        "    i=i+1\n",
        "  sum=sum+f\n",
        "  num=num//10\n",
        "if(sum==temp):\n",
        "   print(\"The number is a strong number\")\n",
        "else:\n",
        "  print(\"The number is not a strong number\")"
      ],
      "metadata": {
        "colab": {
          "base_uri": "https://localhost:8080/"
        },
        "id": "kBf82m_K6IyQ",
        "outputId": "854128ba-6b76-4924-b983-b1d365965acb"
      },
      "execution_count": null,
      "outputs": [
        {
          "output_type": "stream",
          "name": "stdout",
          "text": [
            "Enter a number: 145\n",
            "The number is a strong number\n"
          ]
        }
      ]
    },
    {
      "cell_type": "code",
      "source": [
        "#Arm Strong number\n",
        "num=int(input(\"Enter a number:\"))\n",
        "order=len(str(num))\n",
        "sum=0\n",
        "temp=num\n",
        "while temp>0:\n",
        "  digit=temp%10\n",
        "  sum+=digit**order\n",
        "  temp//=10\n",
        "if(num==sum):\n",
        "  print(num,\"is a armstrong number\")\n",
        "else:\n",
        "  print(num,\"is not a armstrong number\")"
      ],
      "metadata": {
        "colab": {
          "base_uri": "https://localhost:8080/"
        },
        "id": "GIz3IC15Mg_u",
        "outputId": "f951dc49-01dd-42b7-e4b6-dc7ffc4f751d"
      },
      "execution_count": null,
      "outputs": [
        {
          "output_type": "stream",
          "name": "stdout",
          "text": [
            "Enter a number:6\n",
            "6 is a armstrong number\n"
          ]
        }
      ]
    },
    {
      "cell_type": "code",
      "source": [
        "#Neon number\n",
        "num=int(input(\"Enter a number:\"))\n",
        "square=num*num\n",
        "temp=num\n",
        "sum=0\n",
        "while(square!=0):\n",
        "  r=square%10\n",
        "  sum=sum+r\n",
        "  square=square//10\n",
        "if(sum==temp):\n",
        "  print(\"Neon\")\n",
        "else:\n",
        "  print(\"not neon\")"
      ],
      "metadata": {
        "colab": {
          "base_uri": "https://localhost:8080/"
        },
        "id": "G9i_MRtKRLgc",
        "outputId": "0c6227ab-ca5e-426b-a10f-c46844a5b76b"
      },
      "execution_count": null,
      "outputs": [
        {
          "output_type": "stream",
          "name": "stdout",
          "text": [
            "Enter a number:6\n",
            "not neon\n"
          ]
        }
      ]
    },
    {
      "cell_type": "code",
      "source": [
        "#Spy Number\n",
        "num=int(input(\"Enter a number:\"))\n",
        "sum=0\n",
        "temp=num\n",
        "product=1\n",
        "\n",
        "while(num>0):\n",
        "   d=num%10\n",
        "   sum=sum+d\n",
        "   product=product*d\n",
        "   num=num//10\n",
        "\n",
        "if(sum==product):\n",
        "  print(temp,\"is a spy number\")\n",
        "else:\n",
        "  print(temp,\"is not a spy number\")"
      ],
      "metadata": {
        "colab": {
          "base_uri": "https://localhost:8080/"
        },
        "id": "xpBk8nu2ULHu",
        "outputId": "d2a023da-f666-494b-b9f3-cb42abd71fae"
      },
      "execution_count": null,
      "outputs": [
        {
          "output_type": "stream",
          "name": "stdout",
          "text": [
            "Enter a number:1421\n",
            "1421 is a spy number\n"
          ]
        }
      ]
    },
    {
      "cell_type": "code",
      "source": [
        "#Palindrome Number\n",
        "rev=0\n",
        "org=n\n",
        "while(n!=0):\n",
        "  d=n%10\n",
        "  rev=rev*10+d\n",
        "  n=n//10\n"
      ],
      "metadata": {
        "id": "eBYE-yUSVX_Q"
      },
      "execution_count": null,
      "outputs": []
    },
    {
      "cell_type": "code",
      "source": [
        "#Happy Number\n",
        "n=int(input())\n",
        "res=n\n",
        "def isHappy(n):\n",
        "  sum=0\n",
        "  while(n!=0):\n",
        "    r=n%10\n",
        "    sum=sum+(r*r)\n",
        "    n=n//10\n",
        "  return sum\n",
        "\n",
        "while(res!=1 and res!=4):\n",
        "  res= isHappy(res)\n",
        "\n",
        "if(res==1):\n",
        "  print(\"TRUE\")\n",
        "else:\n",
        "  print(\"FALSE\")"
      ],
      "metadata": {
        "colab": {
          "base_uri": "https://localhost:8080/"
        },
        "id": "DtJTMLUK7b2Z",
        "outputId": "eda5e93b-f21a-4cbe-90b4-32e756efbb14"
      },
      "execution_count": null,
      "outputs": [
        {
          "output_type": "stream",
          "name": "stdout",
          "text": [
            "82\n",
            "TRUE\n"
          ]
        }
      ]
    },
    {
      "cell_type": "code",
      "source": [
        "#Prime numbers in a given range\n",
        "start=int(input(\"Enter starting range\\n\"))\n",
        "end=int(input(\"Enter ending range\\n\"))\n",
        "count=0\n",
        "def isprime(num):\n",
        " for num in range(start,end+1):\n",
        "  if num>1:\n",
        "   for i in range(2,num):\n",
        "    if(num%i)==0:\n",
        "      isprime=False\n",
        "      break\n",
        "   if isprime:\n",
        "      print(num)\n",
        "      count=count+1\n",
        "\n",
        "  print(\"Total prime numbers in the given range=\",count)\n"
      ],
      "metadata": {
        "colab": {
          "base_uri": "https://localhost:8080/"
        },
        "id": "RkhYBOeXILn2",
        "outputId": "f55b92ce-bd30-4f53-e83a-93f47c238f2a"
      },
      "execution_count": null,
      "outputs": [
        {
          "name": "stdout",
          "output_type": "stream",
          "text": [
            "Enter starting range\n",
            "3\n",
            "Enter ending range\n",
            "45\n"
          ]
        }
      ]
    },
    {
      "cell_type": "code",
      "source": [
        "n=int(input(\"enterthe number\"))\n",
        "fib1=0\n",
        "fib2=1\n",
        "print(\"Fib series of a given number\",n,\"is\")\n",
        "print(fib1,fib2,end=\"\")\n",
        "for i in range(2,n):\n",
        "  fib3=fib1+fib2\n",
        "  print(fib3,end=\"\")\n",
        "  fib1=fib2\n",
        "  fib2=fib3"
      ],
      "metadata": {
        "colab": {
          "base_uri": "https://localhost:8080/"
        },
        "id": "tDMJKWI8PCHx",
        "outputId": "a18ddae4-1a4f-453b-fff0-8183199a54c4"
      },
      "execution_count": null,
      "outputs": [
        {
          "output_type": "stream",
          "name": "stdout",
          "text": [
            "enterthe number4\n",
            "Fib series of a given number 4 is\n",
            "0 112"
          ]
        }
      ]
    },
    {
      "cell_type": "code",
      "source": [
        "#Pattern 1\n",
        "n=int(input())\n",
        "for i in range(0,n):\n",
        "  for j in range(0,n):\n",
        "    print(\"*\",end=\" \")\n",
        "\n",
        "  print()"
      ],
      "metadata": {
        "id": "ccS2Pj9EfMd6",
        "colab": {
          "base_uri": "https://localhost:8080/"
        },
        "outputId": "2ca6bcbf-7d0e-4e83-a836-c9852e75d496"
      },
      "execution_count": null,
      "outputs": [
        {
          "output_type": "stream",
          "name": "stdout",
          "text": [
            "6\n",
            "* * * * * * \n",
            "* * * * * * \n",
            "* * * * * * \n",
            "* * * * * * \n",
            "* * * * * * \n",
            "* * * * * * \n"
          ]
        }
      ]
    },
    {
      "cell_type": "code",
      "source": [
        "n=int(input())\n",
        "for i in range(0,n):\n",
        "  for j in range(0,n):\n",
        "    if(j<=i):\n",
        "     print(\"*\",end=\" \")\n",
        "\n",
        "  print()"
      ],
      "metadata": {
        "colab": {
          "base_uri": "https://localhost:8080/"
        },
        "id": "daJuEmlMgf5E",
        "outputId": "f95331a3-8384-4ba6-8159-df71b4b7bc76"
      },
      "execution_count": null,
      "outputs": [
        {
          "output_type": "stream",
          "name": "stdout",
          "text": [
            "5\n",
            "* \n",
            "* * \n",
            "* * * \n",
            "* * * * \n",
            "* * * * * \n"
          ]
        }
      ]
    },
    {
      "cell_type": "code",
      "source": [
        "n=int(input())\n",
        "for i in range(n):\n",
        "  for j in range(n):\n",
        "    if (i+j)>=n-1:\n",
        "      print(\"*\",end=\" \")\n",
        "    else:\n",
        "      print(\" \",end=\" \")\n",
        "  print(\" \")"
      ],
      "metadata": {
        "colab": {
          "base_uri": "https://localhost:8080/"
        },
        "id": "9a5oTszslbrj",
        "outputId": "a11c7e35-4516-445e-b882-0363a64aa0fe"
      },
      "execution_count": null,
      "outputs": [
        {
          "output_type": "stream",
          "name": "stdout",
          "text": [
            "5\n",
            "        *  \n",
            "      * *  \n",
            "    * * *  \n",
            "  * * * *  \n",
            "* * * * *  \n"
          ]
        }
      ]
    },
    {
      "cell_type": "code",
      "source": [
        "n=int(input())\n",
        "for i in range(0,n):\n",
        "  for j in range(0,n):\n",
        "    if(j>=i):\n",
        "     print(\"*\",end=\" \")\n",
        "    else:\n",
        "      print(\" \",end=\" \")\n",
        "\n",
        "  print()"
      ],
      "metadata": {
        "colab": {
          "base_uri": "https://localhost:8080/"
        },
        "id": "uChP1y9soMHB",
        "outputId": "79919f3d-a9e3-4ce5-c3f7-7060ceaa5f9f"
      },
      "execution_count": null,
      "outputs": [
        {
          "output_type": "stream",
          "name": "stdout",
          "text": [
            "5\n",
            "* * * * * \n",
            "  * * * * \n",
            "    * * * \n",
            "      * * \n",
            "        * \n"
          ]
        }
      ]
    },
    {
      "cell_type": "code",
      "source": [
        "n=int(input())\n",
        "for i in range(0,n):\n",
        "  for j in range(0,n):\n",
        "    if(j>=i):\n",
        "     print(\"*\",end=\" \")\n",
        "\n",
        "  print()"
      ],
      "metadata": {
        "colab": {
          "base_uri": "https://localhost:8080/"
        },
        "id": "YrBsGdegpk0D",
        "outputId": "0b4d1694-9062-4c33-a885-f79690a67d9a"
      },
      "execution_count": null,
      "outputs": [
        {
          "output_type": "stream",
          "name": "stdout",
          "text": [
            "5\n",
            "* * * * * \n",
            "* * * * \n",
            "* * * \n",
            "* * \n",
            "* \n"
          ]
        }
      ]
    },
    {
      "cell_type": "code",
      "source": [
        "n=int(input())\n",
        "for i in range(n):\n",
        "  for j in range(n):\n",
        "    if j<=i:\n",
        "      print(i,end=\" \")\n",
        "  print()"
      ],
      "metadata": {
        "colab": {
          "base_uri": "https://localhost:8080/"
        },
        "id": "46OgwzV6-gux",
        "outputId": "582c9f8e-f02b-4d7d-ad3f-a03e90f370cd"
      },
      "execution_count": null,
      "outputs": [
        {
          "output_type": "stream",
          "name": "stdout",
          "text": [
            "5\n",
            "0 \n",
            "1 1 \n",
            "2 2 2 \n",
            "3 3 3 3 \n",
            "4 4 4 4 4 \n"
          ]
        }
      ]
    },
    {
      "cell_type": "code",
      "source": [
        "n=int(input())\n",
        "for i in range(n):\n",
        "  for j in range(n):\n",
        "    if i==0 or i==n-1 or j==0 or j==n-1:\n",
        "      print(\"*\",end=\" \")\n",
        "    else:\n",
        "      print(\" \",end=\" \")\n",
        "  print()"
      ],
      "metadata": {
        "colab": {
          "base_uri": "https://localhost:8080/"
        },
        "id": "8lMulLdB_IPf",
        "outputId": "abff5968-af47-4d67-efb0-770bfbed88b6"
      },
      "execution_count": null,
      "outputs": [
        {
          "output_type": "stream",
          "name": "stdout",
          "text": [
            "5\n",
            "* * * * * \n",
            "*       * \n",
            "*       * \n",
            "*       * \n",
            "* * * * * \n"
          ]
        }
      ]
    },
    {
      "cell_type": "code",
      "source": [
        "n=int(input())\n",
        "for i in range(n):\n",
        "  for j in range(n):\n",
        "    if i==0 or i==n-1 or j==0 or j==n-1 or i==j or i+j==n-1:\n",
        "      print(\"*\",end=\" \")\n",
        "    else:\n",
        "      print(\" \",end=\" \")\n",
        "  print()"
      ],
      "metadata": {
        "colab": {
          "base_uri": "https://localhost:8080/"
        },
        "id": "L6jD_gQYCOyZ",
        "outputId": "61de4a98-0f86-4314-b6d1-e80bf1ddb016"
      },
      "execution_count": null,
      "outputs": [
        {
          "output_type": "stream",
          "name": "stdout",
          "text": [
            "5\n",
            "* * * * * \n",
            "* *   * * \n",
            "*   *   * \n",
            "* *   * * \n",
            "* * * * * \n"
          ]
        }
      ]
    },
    {
      "cell_type": "code",
      "source": [
        "n=int(input(\"Enter rows and columns\"))\n",
        "k=input(\"Enter char\")\n",
        "for i in range(n):\n",
        "  for j in range(n):\n",
        "    print(k,end=\" \")\n",
        "  print()"
      ],
      "metadata": {
        "colab": {
          "base_uri": "https://localhost:8080/"
        },
        "id": "UMfDcCbZDkhT",
        "outputId": "58d988c2-64a6-4020-88d3-8ffc2a52480f"
      },
      "execution_count": null,
      "outputs": [
        {
          "output_type": "stream",
          "name": "stdout",
          "text": [
            "Enter rows and columns5\n",
            "Enter charC\n",
            "C C C C C \n",
            "C C C C C \n",
            "C C C C C \n",
            "C C C C C \n",
            "C C C C C \n"
          ]
        }
      ]
    },
    {
      "cell_type": "code",
      "source": [
        "n=int(input())\n",
        "k=1\n",
        "for i in range(n):\n",
        "  for j in range(n):\n",
        "    print(k,end=\" \")\n",
        "    k=k+1\n",
        "  print()"
      ],
      "metadata": {
        "colab": {
          "base_uri": "https://localhost:8080/"
        },
        "id": "b0F5uf1DE85v",
        "outputId": "476534ea-08ec-45d3-bed2-ba92b70a7778"
      },
      "execution_count": null,
      "outputs": [
        {
          "output_type": "stream",
          "name": "stdout",
          "text": [
            "5\n",
            "1 2 3 4 5 \n",
            "6 7 8 9 10 \n",
            "11 12 13 14 15 \n",
            "16 17 18 19 20 \n",
            "21 22 23 24 25 \n"
          ]
        }
      ]
    },
    {
      "cell_type": "markdown",
      "source": [
        "Write a program to find factorial of a number"
      ],
      "metadata": {
        "id": "KoFpqOkRM6i5"
      }
    },
    {
      "cell_type": "code",
      "source": [
        "num=int(input(\"Enter a number\"))\n",
        "factorial=1\n",
        "if num<0:\n",
        "  print(\"Factorial does not exist for -ve numbers\")\n",
        "elif num==0:\n",
        "  print(\"The factorial of 0 is 1\")\n",
        "else:\n",
        "  for i in range(1,num+1):\n",
        "    factorial=factorial*i\n",
        "  print(\"The factorial of\",num,\"is\",factorial)"
      ],
      "metadata": {
        "colab": {
          "base_uri": "https://localhost:8080/"
        },
        "id": "pnYxEZDvHNHT",
        "outputId": "df10e1f3-3b66-407c-c4d2-c7e6fc0b316f"
      },
      "execution_count": null,
      "outputs": [
        {
          "output_type": "stream",
          "name": "stdout",
          "text": [
            "Enter a number3\n",
            "The factorial of 3 is 6\n"
          ]
        }
      ]
    },
    {
      "cell_type": "markdown",
      "source": [
        "Program to read a string from user and implement the logic to remove the characters which are at the odd numbers of the index"
      ],
      "metadata": {
        "id": "Rl5mvJuSMCUT"
      }
    },
    {
      "cell_type": "code",
      "source": [
        "s=input(\"\")\n",
        "a=\"\"\n",
        "for i in range(0,len(s)):\n",
        "  if(i%2==0):\n",
        "    a=a+s[i]\n",
        "print(a)"
      ],
      "metadata": {
        "colab": {
          "base_uri": "https://localhost:8080/"
        },
        "id": "w9_C9V59LBX6",
        "outputId": "07bc4564-abbd-43e1-cd03-97d31cfa92bd"
      },
      "execution_count": null,
      "outputs": [
        {
          "output_type": "stream",
          "name": "stdout",
          "text": [
            "CHAITHRA\n",
            "CATR\n"
          ]
        }
      ]
    },
    {
      "cell_type": "code",
      "source": [
        "mark1=int(input())\n",
        "mark2=int(input())\n",
        "mark3=int(input())\n",
        "\n",
        "if (mark1>mark2 and mark3):\n",
        "  avg((mark2+mark3)/2)\n",
        "  print(avg)\n",
        "elif(mark2>mark1 and mark3):\n",
        "  avg((mark1+mark3)/2)\n",
        "else:\n",
        "  avg((mark2+mark1)"
      ],
      "metadata": {
        "id": "yaiC33fcLzuH"
      },
      "execution_count": null,
      "outputs": []
    }
  ]
}